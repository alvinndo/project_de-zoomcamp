{
 "cells": [
  {
   "cell_type": "code",
   "execution_count": 1,
   "id": "82f9a30f",
   "metadata": {},
   "outputs": [],
   "source": [
    "import pandas as pd"
   ]
  },
  {
   "cell_type": "code",
   "execution_count": 2,
   "id": "03a954f4",
   "metadata": {},
   "outputs": [],
   "source": [
    "df = pd.DataFrame(pd.read_excel(\"https://www.bls.gov/lau/laucnty21.xlsx\"))"
   ]
  },
  {
   "cell_type": "code",
   "execution_count": 3,
   "id": "b550128d",
   "metadata": {},
   "outputs": [],
   "source": [
    "df.drop(index=df.index[:5], axis=0, inplace=True)"
   ]
  },
  {
   "cell_type": "code",
   "execution_count": 4,
   "id": "0891086d",
   "metadata": {},
   "outputs": [],
   "source": [
    "df.drop(index=df.tail(3).index,axis = 0, inplace=True)"
   ]
  },
  {
   "cell_type": "code",
   "execution_count": 5,
   "id": "c85e0869",
   "metadata": {},
   "outputs": [],
   "source": [
    "df.drop(columns=\"Unnamed: 5\", inplace=True)"
   ]
  },
  {
   "cell_type": "code",
   "execution_count": 6,
   "id": "19696a3f",
   "metadata": {},
   "outputs": [],
   "source": [
    "df.columns = [\"LAUS_code\", \"state_fips\", \"county_fips\", \"county_state\", \"year\", \"labor_force\", \"employed\", \"unemployed\", \"unemployment_rate\"]"
   ]
  },
  {
   "cell_type": "code",
   "execution_count": 7,
   "id": "3dbb8799",
   "metadata": {},
   "outputs": [
    {
     "data": {
      "text/html": [
       "<div>\n",
       "<style scoped>\n",
       "    .dataframe tbody tr th:only-of-type {\n",
       "        vertical-align: middle;\n",
       "    }\n",
       "\n",
       "    .dataframe tbody tr th {\n",
       "        vertical-align: top;\n",
       "    }\n",
       "\n",
       "    .dataframe thead th {\n",
       "        text-align: right;\n",
       "    }\n",
       "</style>\n",
       "<table border=\"1\" class=\"dataframe\">\n",
       "  <thead>\n",
       "    <tr style=\"text-align: right;\">\n",
       "      <th></th>\n",
       "      <th>LAUS_code</th>\n",
       "      <th>state_fips</th>\n",
       "      <th>county_fips</th>\n",
       "      <th>county_state</th>\n",
       "      <th>year</th>\n",
       "      <th>labor_force</th>\n",
       "      <th>employed</th>\n",
       "      <th>unemployed</th>\n",
       "      <th>unemployment_rate</th>\n",
       "    </tr>\n",
       "  </thead>\n",
       "  <tbody>\n",
       "    <tr>\n",
       "      <th>5</th>\n",
       "      <td>CN0100100000000</td>\n",
       "      <td>01</td>\n",
       "      <td>001</td>\n",
       "      <td>Autauga County, AL</td>\n",
       "      <td>2021</td>\n",
       "      <td>26341</td>\n",
       "      <td>25599</td>\n",
       "      <td>742</td>\n",
       "      <td>2.8</td>\n",
       "    </tr>\n",
       "    <tr>\n",
       "      <th>6</th>\n",
       "      <td>CN0100300000000</td>\n",
       "      <td>01</td>\n",
       "      <td>003</td>\n",
       "      <td>Baldwin County, AL</td>\n",
       "      <td>2021</td>\n",
       "      <td>99427</td>\n",
       "      <td>96481</td>\n",
       "      <td>2946</td>\n",
       "      <td>3</td>\n",
       "    </tr>\n",
       "    <tr>\n",
       "      <th>7</th>\n",
       "      <td>CN0100500000000</td>\n",
       "      <td>01</td>\n",
       "      <td>005</td>\n",
       "      <td>Barbour County, AL</td>\n",
       "      <td>2021</td>\n",
       "      <td>8197</td>\n",
       "      <td>7728</td>\n",
       "      <td>469</td>\n",
       "      <td>5.7</td>\n",
       "    </tr>\n",
       "    <tr>\n",
       "      <th>8</th>\n",
       "      <td>CN0100700000000</td>\n",
       "      <td>01</td>\n",
       "      <td>007</td>\n",
       "      <td>Bibb County, AL</td>\n",
       "      <td>2021</td>\n",
       "      <td>8560</td>\n",
       "      <td>8262</td>\n",
       "      <td>298</td>\n",
       "      <td>3.5</td>\n",
       "    </tr>\n",
       "    <tr>\n",
       "      <th>9</th>\n",
       "      <td>CN0100900000000</td>\n",
       "      <td>01</td>\n",
       "      <td>009</td>\n",
       "      <td>Blount County, AL</td>\n",
       "      <td>2021</td>\n",
       "      <td>25127</td>\n",
       "      <td>24529</td>\n",
       "      <td>598</td>\n",
       "      <td>2.4</td>\n",
       "    </tr>\n",
       "    <tr>\n",
       "      <th>...</th>\n",
       "      <td>...</td>\n",
       "      <td>...</td>\n",
       "      <td>...</td>\n",
       "      <td>...</td>\n",
       "      <td>...</td>\n",
       "      <td>...</td>\n",
       "      <td>...</td>\n",
       "      <td>...</td>\n",
       "      <td>...</td>\n",
       "    </tr>\n",
       "    <tr>\n",
       "      <th>3220</th>\n",
       "      <td>CN7214500000000</td>\n",
       "      <td>72</td>\n",
       "      <td>145</td>\n",
       "      <td>Vega Baja Municipio, PR</td>\n",
       "      <td>2021</td>\n",
       "      <td>14185</td>\n",
       "      <td>12742</td>\n",
       "      <td>1443</td>\n",
       "      <td>10.2</td>\n",
       "    </tr>\n",
       "    <tr>\n",
       "      <th>3221</th>\n",
       "      <td>CN7214700000000</td>\n",
       "      <td>72</td>\n",
       "      <td>147</td>\n",
       "      <td>Vieques Municipio, PR</td>\n",
       "      <td>2021</td>\n",
       "      <td>2775</td>\n",
       "      <td>2435</td>\n",
       "      <td>340</td>\n",
       "      <td>12.3</td>\n",
       "    </tr>\n",
       "    <tr>\n",
       "      <th>3222</th>\n",
       "      <td>CN7214900000000</td>\n",
       "      <td>72</td>\n",
       "      <td>149</td>\n",
       "      <td>Villalba Municipio, PR</td>\n",
       "      <td>2021</td>\n",
       "      <td>7700</td>\n",
       "      <td>6807</td>\n",
       "      <td>893</td>\n",
       "      <td>11.6</td>\n",
       "    </tr>\n",
       "    <tr>\n",
       "      <th>3223</th>\n",
       "      <td>CN7215100000000</td>\n",
       "      <td>72</td>\n",
       "      <td>151</td>\n",
       "      <td>Yabucoa Municipio, PR</td>\n",
       "      <td>2021</td>\n",
       "      <td>9164</td>\n",
       "      <td>8217</td>\n",
       "      <td>947</td>\n",
       "      <td>10.3</td>\n",
       "    </tr>\n",
       "    <tr>\n",
       "      <th>3224</th>\n",
       "      <td>CN7215300000000</td>\n",
       "      <td>72</td>\n",
       "      <td>153</td>\n",
       "      <td>Yauco Municipio, PR</td>\n",
       "      <td>2021</td>\n",
       "      <td>10213</td>\n",
       "      <td>9014</td>\n",
       "      <td>1199</td>\n",
       "      <td>11.7</td>\n",
       "    </tr>\n",
       "  </tbody>\n",
       "</table>\n",
       "<p>3220 rows × 9 columns</p>\n",
       "</div>"
      ],
      "text/plain": [
       "            LAUS_code state_fips county_fips             county_state  year  \\\n",
       "5     CN0100100000000         01         001       Autauga County, AL  2021   \n",
       "6     CN0100300000000         01         003       Baldwin County, AL  2021   \n",
       "7     CN0100500000000         01         005       Barbour County, AL  2021   \n",
       "8     CN0100700000000         01         007          Bibb County, AL  2021   \n",
       "9     CN0100900000000         01         009        Blount County, AL  2021   \n",
       "...               ...        ...         ...                      ...   ...   \n",
       "3220  CN7214500000000         72         145  Vega Baja Municipio, PR  2021   \n",
       "3221  CN7214700000000         72         147    Vieques Municipio, PR  2021   \n",
       "3222  CN7214900000000         72         149   Villalba Municipio, PR  2021   \n",
       "3223  CN7215100000000         72         151    Yabucoa Municipio, PR  2021   \n",
       "3224  CN7215300000000         72         153      Yauco Municipio, PR  2021   \n",
       "\n",
       "     labor_force employed unemployed unemployment_rate  \n",
       "5          26341    25599        742               2.8  \n",
       "6          99427    96481       2946                 3  \n",
       "7           8197     7728        469               5.7  \n",
       "8           8560     8262        298               3.5  \n",
       "9          25127    24529        598               2.4  \n",
       "...          ...      ...        ...               ...  \n",
       "3220       14185    12742       1443              10.2  \n",
       "3221        2775     2435        340              12.3  \n",
       "3222        7700     6807        893              11.6  \n",
       "3223        9164     8217        947              10.3  \n",
       "3224       10213     9014       1199              11.7  \n",
       "\n",
       "[3220 rows x 9 columns]"
      ]
     },
     "execution_count": 7,
     "metadata": {},
     "output_type": "execute_result"
    }
   ],
   "source": [
    "df"
   ]
  },
  {
   "cell_type": "code",
   "execution_count": 8,
   "id": "b23079dd",
   "metadata": {
    "scrolled": true
   },
   "outputs": [
    {
     "name": "stdout",
     "output_type": "stream",
     "text": [
      "CREATE TABLE \"us_employment_data\" (\n",
      "\"LAUS_code\" TEXT,\n",
      "  \"state_fips\" TEXT,\n",
      "  \"county_fips\" TEXT,\n",
      "  \"county_state\" TEXT,\n",
      "  \"year\" TEXT,\n",
      "  \"labor_force\" INTEGER,\n",
      "  \"employed\" INTEGER,\n",
      "  \"unemployed\" INTEGER,\n",
      "  \"unemployment_rate\" TEXT\n",
      ")\n"
     ]
    }
   ],
   "source": [
    "print(pd.io.sql.get_schema(df, \"us_employment_data\"))"
   ]
  },
  {
   "cell_type": "code",
   "execution_count": 9,
   "id": "e86e97cd",
   "metadata": {},
   "outputs": [],
   "source": [
    "df.state_fips = pd.to_numeric(df.state_fips)\n",
    "df.county_fips = pd.to_numeric(df.county_fips)\n",
    "df.year = pd.to_numeric(df.year)\n",
    "df.unemployment_rate = pd.to_numeric(df.unemployment_rate)"
   ]
  },
  {
   "cell_type": "code",
   "execution_count": 10,
   "id": "63e169e3",
   "metadata": {},
   "outputs": [
    {
     "name": "stdout",
     "output_type": "stream",
     "text": [
      "CREATE TABLE \"us_employment_data\" (\n",
      "\"LAUS_code\" TEXT,\n",
      "  \"state_fips\" INTEGER,\n",
      "  \"county_fips\" INTEGER,\n",
      "  \"county_state\" TEXT,\n",
      "  \"year\" INTEGER,\n",
      "  \"labor_force\" INTEGER,\n",
      "  \"employed\" INTEGER,\n",
      "  \"unemployed\" INTEGER,\n",
      "  \"unemployment_rate\" REAL\n",
      ")\n"
     ]
    }
   ],
   "source": [
    "print(pd.io.sql.get_schema(df, \"us_employment_data\"))"
   ]
  },
  {
   "cell_type": "code",
   "execution_count": 15,
   "id": "ad255db2",
   "metadata": {},
   "outputs": [],
   "source": [
    "df.to_csv(f\"./data/us_employment_{df.year[6]}.csv\", index=None, header=True)"
   ]
  }
 ],
 "metadata": {
  "kernelspec": {
   "display_name": "Python 3 (ipykernel)",
   "language": "python",
   "name": "python3"
  },
  "language_info": {
   "codemirror_mode": {
    "name": "ipython",
    "version": 3
   },
   "file_extension": ".py",
   "mimetype": "text/x-python",
   "name": "python",
   "nbconvert_exporter": "python",
   "pygments_lexer": "ipython3",
   "version": "3.9.10"
  }
 },
 "nbformat": 4,
 "nbformat_minor": 5
}
