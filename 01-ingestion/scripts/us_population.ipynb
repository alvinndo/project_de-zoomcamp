{
 "cells": [
  {
   "cell_type": "code",
   "execution_count": 2,
   "id": "96db68ce",
   "metadata": {},
   "outputs": [],
   "source": [
    "import pandas as pd"
   ]
  },
  {
   "cell_type": "code",
   "execution_count": 38,
   "id": "4d16b116",
   "metadata": {},
   "outputs": [],
   "source": [
    "df = pd.DataFrame(pd.read_excel(\"https://www2.census.gov/programs-surveys/popest/tables/2020-2021/counties/totals/co-est2021-pop.xlsx\"))"
   ]
  },
  {
   "cell_type": "code",
   "execution_count": 39,
   "id": "f9ac1233",
   "metadata": {},
   "outputs": [],
   "source": [
    "df.drop([0,1,2,3], axis=0, inplace=True)"
   ]
  },
  {
   "cell_type": "code",
   "execution_count": 40,
   "id": "91b2c550",
   "metadata": {},
   "outputs": [],
   "source": [
    "df.drop([3147,3148,3149,3150,3151], axis=0, inplace=True)"
   ]
  },
  {
   "cell_type": "code",
   "execution_count": 41,
   "id": "e7aab3af",
   "metadata": {},
   "outputs": [],
   "source": [
    "df.to_csv(\"us_counties_population.csv\", index = None, header=True)"
   ]
  },
  {
   "cell_type": "code",
   "execution_count": 42,
   "id": "f59a27dd",
   "metadata": {},
   "outputs": [],
   "source": [
    "df_csv = pd.DataFrame(pd.read_csv(\"us_counties_population.csv\"))"
   ]
  },
  {
   "cell_type": "code",
   "execution_count": 43,
   "id": "f9ab2477",
   "metadata": {},
   "outputs": [
    {
     "data": {
      "text/html": [
       "<div>\n",
       "<style scoped>\n",
       "    .dataframe tbody tr th:only-of-type {\n",
       "        vertical-align: middle;\n",
       "    }\n",
       "\n",
       "    .dataframe tbody tr th {\n",
       "        vertical-align: top;\n",
       "    }\n",
       "\n",
       "    .dataframe thead th {\n",
       "        text-align: right;\n",
       "    }\n",
       "</style>\n",
       "<table border=\"1\" class=\"dataframe\">\n",
       "  <thead>\n",
       "    <tr style=\"text-align: right;\">\n",
       "      <th></th>\n",
       "      <th>table with row headers in column A and column headers in rows 3 through 4 (leading dots indicate sub-parts)</th>\n",
       "      <th>Unnamed: 1</th>\n",
       "      <th>Unnamed: 2</th>\n",
       "      <th>Unnamed: 3</th>\n",
       "    </tr>\n",
       "  </thead>\n",
       "  <tbody>\n",
       "    <tr>\n",
       "      <th>0</th>\n",
       "      <td>.Autauga County, Alabama</td>\n",
       "      <td>58805</td>\n",
       "      <td>58877</td>\n",
       "      <td>59095.0</td>\n",
       "    </tr>\n",
       "    <tr>\n",
       "      <th>1</th>\n",
       "      <td>.Baldwin County, Alabama</td>\n",
       "      <td>231767</td>\n",
       "      <td>233140</td>\n",
       "      <td>239294.0</td>\n",
       "    </tr>\n",
       "    <tr>\n",
       "      <th>2</th>\n",
       "      <td>.Barbour County, Alabama</td>\n",
       "      <td>25223</td>\n",
       "      <td>25180</td>\n",
       "      <td>24964.0</td>\n",
       "    </tr>\n",
       "    <tr>\n",
       "      <th>3</th>\n",
       "      <td>.Bibb County, Alabama</td>\n",
       "      <td>22293</td>\n",
       "      <td>22223</td>\n",
       "      <td>22477.0</td>\n",
       "    </tr>\n",
       "    <tr>\n",
       "      <th>4</th>\n",
       "      <td>.Blount County, Alabama</td>\n",
       "      <td>59134</td>\n",
       "      <td>59081</td>\n",
       "      <td>59041.0</td>\n",
       "    </tr>\n",
       "    <tr>\n",
       "      <th>...</th>\n",
       "      <td>...</td>\n",
       "      <td>...</td>\n",
       "      <td>...</td>\n",
       "      <td>...</td>\n",
       "    </tr>\n",
       "    <tr>\n",
       "      <th>3138</th>\n",
       "      <td>.Sweetwater County, Wyoming</td>\n",
       "      <td>42272</td>\n",
       "      <td>42158</td>\n",
       "      <td>41614.0</td>\n",
       "    </tr>\n",
       "    <tr>\n",
       "      <th>3139</th>\n",
       "      <td>.Teton County, Wyoming</td>\n",
       "      <td>23331</td>\n",
       "      <td>23347</td>\n",
       "      <td>23575.0</td>\n",
       "    </tr>\n",
       "    <tr>\n",
       "      <th>3140</th>\n",
       "      <td>.Uinta County, Wyoming</td>\n",
       "      <td>20450</td>\n",
       "      <td>20441</td>\n",
       "      <td>20635.0</td>\n",
       "    </tr>\n",
       "    <tr>\n",
       "      <th>3141</th>\n",
       "      <td>.Washakie County, Wyoming</td>\n",
       "      <td>7685</td>\n",
       "      <td>7658</td>\n",
       "      <td>7705.0</td>\n",
       "    </tr>\n",
       "    <tr>\n",
       "      <th>3142</th>\n",
       "      <td>.Weston County, Wyoming</td>\n",
       "      <td>6838</td>\n",
       "      <td>6809</td>\n",
       "      <td>6745.0</td>\n",
       "    </tr>\n",
       "  </tbody>\n",
       "</table>\n",
       "<p>3143 rows × 4 columns</p>\n",
       "</div>"
      ],
      "text/plain": [
       "     table with row headers in column A and column headers in rows 3 through 4 (leading dots indicate sub-parts)  \\\n",
       "0                              .Autauga County, Alabama                                                            \n",
       "1                              .Baldwin County, Alabama                                                            \n",
       "2                              .Barbour County, Alabama                                                            \n",
       "3                                 .Bibb County, Alabama                                                            \n",
       "4                               .Blount County, Alabama                                                            \n",
       "...                                                 ...                                                            \n",
       "3138                        .Sweetwater County, Wyoming                                                            \n",
       "3139                             .Teton County, Wyoming                                                            \n",
       "3140                             .Uinta County, Wyoming                                                            \n",
       "3141                          .Washakie County, Wyoming                                                            \n",
       "3142                            .Weston County, Wyoming                                                            \n",
       "\n",
       "      Unnamed: 1  Unnamed: 2  Unnamed: 3  \n",
       "0          58805       58877     59095.0  \n",
       "1         231767      233140    239294.0  \n",
       "2          25223       25180     24964.0  \n",
       "3          22293       22223     22477.0  \n",
       "4          59134       59081     59041.0  \n",
       "...          ...         ...         ...  \n",
       "3138       42272       42158     41614.0  \n",
       "3139       23331       23347     23575.0  \n",
       "3140       20450       20441     20635.0  \n",
       "3141        7685        7658      7705.0  \n",
       "3142        6838        6809      6745.0  \n",
       "\n",
       "[3143 rows x 4 columns]"
      ]
     },
     "execution_count": 43,
     "metadata": {},
     "output_type": "execute_result"
    }
   ],
   "source": [
    "df_csv"
   ]
  }
 ],
 "metadata": {
  "kernelspec": {
   "display_name": "Python 3 (ipykernel)",
   "language": "python",
   "name": "python3"
  },
  "language_info": {
   "codemirror_mode": {
    "name": "ipython",
    "version": 3
   },
   "file_extension": ".py",
   "mimetype": "text/x-python",
   "name": "python",
   "nbconvert_exporter": "python",
   "pygments_lexer": "ipython3",
   "version": "3.9.10"
  }
 },
 "nbformat": 4,
 "nbformat_minor": 5
}
