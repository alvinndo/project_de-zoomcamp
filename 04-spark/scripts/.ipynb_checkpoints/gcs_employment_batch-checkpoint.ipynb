{
 "cells": [
  {
   "cell_type": "code",
   "execution_count": 1,
   "id": "c3d50f98",
   "metadata": {},
   "outputs": [],
   "source": [
    "import pyspark\n",
    "from pyspark.sql import SparkSession, types\n",
    "from pyspark.conf import SparkConf\n",
    "from pyspark.context import SparkContext\n",
    "from pyspark.sql.functions import split, col, create_map, lit\n",
    "\n",
    "from itertools import chain"
   ]
  },
  {
   "cell_type": "code",
   "execution_count": 2,
   "id": "b2bcce9b",
   "metadata": {},
   "outputs": [],
   "source": [
    "credentials_location = '/Users/alvin/.google/credentials/google_credentials.json'\n",
    "\n",
    "conf = SparkConf() \\\n",
    "    .setMaster('local[*]') \\\n",
    "    .setAppName('de-project-spark-batch') \\\n",
    "    .set(\"spark.jars\", \"/opt/homebrew/Cellar/apache-spark/3.2.1/jars/gcs-connector-hadoop3-latest.jar\") \\\n",
    "    .set(\"spark.hadoop.google.cloud.auth.service.account.enable\", \"true\") \\\n",
    "    .set(\"spark.hadoop.google.cloud.auth.service.account.json.keyfile\", credentials_location)"
   ]
  },
  {
   "cell_type": "code",
   "execution_count": 3,
   "id": "0f1d7749",
   "metadata": {},
   "outputs": [
    {
     "name": "stderr",
     "output_type": "stream",
     "text": [
      "WARNING: An illegal reflective access operation has occurred\n",
      "WARNING: Illegal reflective access by org.apache.spark.unsafe.Platform (file:/opt/homebrew/lib/python3.9/site-packages/pyspark/jars/spark-unsafe_2.12-3.2.1.jar) to constructor java.nio.DirectByteBuffer(long,int)\n",
      "WARNING: Please consider reporting this to the maintainers of org.apache.spark.unsafe.Platform\n",
      "WARNING: Use --illegal-access=warn to enable warnings of further illegal reflective access operations\n",
      "WARNING: All illegal access operations will be denied in a future release\n",
      "22/05/01 19:28:29 WARN NativeCodeLoader: Unable to load native-hadoop library for your platform... using builtin-java classes where applicable\n",
      "Using Spark's default log4j profile: org/apache/spark/log4j-defaults.properties\n",
      "Setting default log level to \"WARN\".\n",
      "To adjust logging level use sc.setLogLevel(newLevel). For SparkR, use setLogLevel(newLevel).\n"
     ]
    }
   ],
   "source": [
    "sc = SparkContext(conf=conf)\n",
    "\n",
    "hadoop_conf = sc._jsc.hadoopConfiguration()\n",
    "\n",
    "hadoop_conf.set(\"fs.AbstractFileSystem.gs.impl\",  \"com.google.cloud.hadoop.fs.gcs.GoogleHadoopFS\")\n",
    "hadoop_conf.set(\"fs.gs.impl\", \"com.google.cloud.hadoop.fs.gcs.GoogleHadoopFileSystem\")\n",
    "hadoop_conf.set(\"fs.gs.auth.service.account.json.keyfile\", credentials_location)\n",
    "hadoop_conf.set(\"fs.gs.auth.service.account.enable\", \"true\")"
   ]
  },
  {
   "cell_type": "code",
   "execution_count": 4,
   "id": "cd87a479",
   "metadata": {},
   "outputs": [],
   "source": [
    "spark = SparkSession.builder \\\n",
    "    .config(conf=sc.getConf()) \\\n",
    "    .getOrCreate()"
   ]
  },
  {
   "cell_type": "code",
   "execution_count": 5,
   "id": "f24673a8",
   "metadata": {
    "scrolled": true
   },
   "outputs": [
    {
     "name": "stderr",
     "output_type": "stream",
     "text": [
      "                                                                                \r"
     ]
    }
   ],
   "source": [
    "df_emp = spark.read \\\n",
    "    .option(\"header\", \"true\") \\\n",
    "    .parquet('gs://de-project-data-lake_intense-glow-347320/raw/*')"
   ]
  },
  {
   "cell_type": "code",
   "execution_count": 6,
   "id": "71b78a22",
   "metadata": {
    "scrolled": true
   },
   "outputs": [
    {
     "name": "stderr",
     "output_type": "stream",
     "text": [
      "\r",
      "[Stage 1:>                                                          (0 + 1) / 1]\r"
     ]
    },
    {
     "name": "stdout",
     "output_type": "stream",
     "text": [
      "+---------------+----------+-----------+--------------------+----+-----------+--------+----------+-----------------+-----+-----------------+\n",
      "|      LAUS_code|state_fips|county_fips|        county_state|year|labor_force|employed|unemployed|unemployment_rate| fips|__index_level_0__|\n",
      "+---------------+----------+-----------+--------------------+----+-----------+--------+----------+-----------------+-----+-----------------+\n",
      "|CN0100100000000|        01|        001|  Autauga County, AL|2009|      24660|   22464|      2196|              8.9|01001|                5|\n",
      "|CN0100300000000|        01|        003|  Baldwin County, AL|2009|      82314|   74950|      7364|              8.9|01003|                6|\n",
      "|CN0100500000000|        01|        005|  Barbour County, AL|2009|       9944|    8635|      1309|             13.2|01005|                7|\n",
      "|CN0100700000000|        01|        007|     Bibb County, AL|2009|       8696|    7637|      1059|             12.2|01007|                8|\n",
      "|CN0100900000000|        01|        009|   Blount County, AL|2009|      26426|   24005|      2421|              9.2|01009|                9|\n",
      "|CN0101100000000|        01|        011|  Bullock County, AL|2009|       3713|    3179|       534|             14.4|01011|               10|\n",
      "|CN0101300000000|        01|        013|   Butler County, AL|2009|       9033|    7671|      1362|             15.1|01013|               11|\n",
      "|CN0101500000000|        01|        015|  Calhoun County, AL|2009|      53760|   48278|      5482|             10.2|01015|               12|\n",
      "|CN0101700000000|        01|        017| Chambers County, AL|2009|      14487|   11863|      2624|             18.1|01017|               13|\n",
      "|CN0101900000000|        01|        019| Cherokee County, AL|2009|      11715|   10460|      1255|             10.7|01019|               14|\n",
      "|CN0102100000000|        01|        021|  Chilton County, AL|2009|      19393|   17501|      1892|              9.8|01021|               15|\n",
      "|CN0102300000000|        01|        023|  Choctaw County, AL|2009|       5106|    4474|       632|             12.4|01023|               16|\n",
      "|CN0102500000000|        01|        025|   Clarke County, AL|2009|      10298|    8728|      1570|             15.2|01025|               17|\n",
      "|CN0102700000000|        01|        027|     Clay County, AL|2009|       5596|    4737|       859|             15.4|01027|               18|\n",
      "|CN0102900000000|        01|        029| Cleburne County, AL|2009|       6499|    5893|       606|              9.3|01029|               19|\n",
      "|CN0103100000000|        01|        031|   Coffee County, AL|2009|      21423|   19755|      1668|              7.8|01031|               20|\n",
      "|CN0103300000000|        01|        033|  Colbert County, AL|2009|      25324|   22625|      2699|             10.7|01033|               21|\n",
      "|CN0103500000000|        01|        035|  Conecuh County, AL|2009|       4853|    3959|       894|             18.4|01035|               22|\n",
      "|CN0103700000000|        01|        037|    Coosa County, AL|2009|       4557|    3884|       673|             14.8|01037|               23|\n",
      "|CN0103900000000|        01|        039|Covington County, AL|2009|      16672|   15021|      1651|              9.9|01039|               24|\n",
      "+---------------+----------+-----------+--------------------+----+-----------+--------+----------+-----------------+-----+-----------------+\n",
      "only showing top 20 rows\n",
      "\n"
     ]
    },
    {
     "name": "stderr",
     "output_type": "stream",
     "text": [
      "\r",
      "                                                                                \r"
     ]
    }
   ],
   "source": [
    "df_emp.show()"
   ]
  },
  {
   "cell_type": "code",
   "execution_count": 7,
   "id": "a6b972ac",
   "metadata": {},
   "outputs": [],
   "source": [
    "df_emp = df_emp.withColumn('state', split(df_emp['county_state'], ', ').getItem(1)) \\\n",
    "    .withColumn('county', split(df_emp['county_state'], ', ').getItem(0))"
   ]
  },
  {
   "cell_type": "code",
   "execution_count": 8,
   "id": "096692ca",
   "metadata": {},
   "outputs": [],
   "source": [
    "states = {\n",
    "    'AK': 'Alaska',\n",
    "    'AL': 'Alabama',\n",
    "    'AR': 'Arkansas',\n",
    "    'AZ': 'Arizona',\n",
    "    'CA': 'California',\n",
    "    'CO': 'Colorado',\n",
    "    'CT': 'Connecticut',\n",
    "    'DC': 'District of Columbia',\n",
    "    'DE': 'Delaware',\n",
    "    'FL': 'Florida',\n",
    "    'GA': 'Georgia',\n",
    "    'HI': 'Hawaii',\n",
    "    'IA': 'Iowa',\n",
    "    'ID': 'Idaho',\n",
    "    'IL': 'Illinois',\n",
    "    'IN': 'Indiana',\n",
    "    'KS': 'Kansas',\n",
    "    'KY': 'Kentucky',\n",
    "    'LA': 'Louisiana',\n",
    "    'MA': 'Massachusetts',\n",
    "    'MD': 'Maryland',\n",
    "    'ME': 'Maine',\n",
    "    'MI': 'Michigan',\n",
    "    'MN': 'Minnesota',\n",
    "    'MO': 'Missouri',\n",
    "    'MS': 'Mississippi',\n",
    "    'MT': 'Montana',\n",
    "    'NC': 'North Carolina',\n",
    "    'ND': 'North Dakota',\n",
    "    'NE': 'Nebraska',\n",
    "    'NH': 'New Hampshire',\n",
    "    'NJ': 'New Jersey',\n",
    "    'NM': 'New Mexico',\n",
    "    'NV': 'Nevada',\n",
    "    'NY': 'New York',\n",
    "    'OH': 'Ohio',\n",
    "    'OK': 'Oklahoma',\n",
    "    'OR': 'Oregon',\n",
    "    'PA': 'Pennsylvania',\n",
    "    'RI': 'Rhode Island',\n",
    "    'SC': 'South Carolina',\n",
    "    'SD': 'South Dakota',\n",
    "    'TN': 'Tennessee',\n",
    "    'TX': 'Texas',\n",
    "    'UT': 'Utah',\n",
    "    'VA': 'Virginia',\n",
    "    'VT': 'Vermont',\n",
    "    'WA': 'Washington',\n",
    "    'WI': 'Wisconsin',\n",
    "    'WV': 'West Virginia',\n",
    "    'WY': 'Wyoming'\n",
    "}"
   ]
  },
  {
   "cell_type": "code",
   "execution_count": 9,
   "id": "ee4f5638",
   "metadata": {},
   "outputs": [],
   "source": [
    "mapping_expr = create_map([lit(x) for x in chain(*states.items())])\n",
    "df_emp = df_emp.withColumn('state_full', mapping_expr[df_emp.state])"
   ]
  },
  {
   "cell_type": "code",
   "execution_count": 10,
   "id": "bd166dca",
   "metadata": {},
   "outputs": [],
   "source": [
    "df_emp = df_emp.select(\"year\", \"LAUS_code\", \"fips\", \"state_fips\", \"county_fips\", \"state\", \"state_full\", \"county\", \"labor_force\", \"employed\", \"unemployed\", \"unemployment_rate\")"
   ]
  },
  {
   "cell_type": "code",
   "execution_count": 17,
   "id": "97b64837",
   "metadata": {
    "scrolled": true
   },
   "outputs": [
    {
     "name": "stdout",
     "output_type": "stream",
     "text": [
      "root\n",
      " |-- year: long (nullable = true)\n",
      " |-- LAUS_code: string (nullable = true)\n",
      " |-- fips: string (nullable = true)\n",
      " |-- state_fips: string (nullable = true)\n",
      " |-- county_fips: string (nullable = true)\n",
      " |-- state: string (nullable = true)\n",
      " |-- state_full: string (nullable = true)\n",
      " |-- county: string (nullable = true)\n",
      " |-- labor_force: long (nullable = true)\n",
      " |-- employed: long (nullable = true)\n",
      " |-- unemployed: long (nullable = true)\n",
      " |-- unemployment_rate: double (nullable = true)\n",
      "\n"
     ]
    }
   ],
   "source": [
    "df_emp.printSchema()"
   ]
  },
  {
   "cell_type": "code",
   "execution_count": 25,
   "id": "5d0ddb91",
   "metadata": {},
   "outputs": [
    {
     "ename": "TypeError",
     "evalue": "unexpected type: <class 'pyspark.sql.types.DataTypeSingleton'>",
     "output_type": "error",
     "traceback": [
      "\u001b[0;31m---------------------------------------------------------------------------\u001b[0m",
      "\u001b[0;31mTypeError\u001b[0m                                 Traceback (most recent call last)",
      "Input \u001b[0;32mIn [25]\u001b[0m, in \u001b[0;36m<cell line: 1>\u001b[0;34m()\u001b[0m\n\u001b[0;32m----> 1\u001b[0m df_emp\u001b[38;5;241m.\u001b[39mwithColumn(\u001b[38;5;124m\"\u001b[39m\u001b[38;5;124myear\u001b[39m\u001b[38;5;124m\"\u001b[39m, \u001b[43mdf_emp\u001b[49m\u001b[43m[\u001b[49m\u001b[38;5;124;43m\"\u001b[39;49m\u001b[38;5;124;43myear\u001b[39;49m\u001b[38;5;124;43m\"\u001b[39;49m\u001b[43m]\u001b[49m\u001b[38;5;241;43m.\u001b[39;49m\u001b[43mcast\u001b[49m\u001b[43m(\u001b[49m\u001b[43mtypes\u001b[49m\u001b[38;5;241;43m.\u001b[39;49m\u001b[43mIntegerType\u001b[49m\u001b[43m)\u001b[49m)\n",
      "File \u001b[0;32m/opt/homebrew/lib/python3.9/site-packages/pyspark/sql/column.py:781\u001b[0m, in \u001b[0;36mColumn.cast\u001b[0;34m(self, dataType)\u001b[0m\n\u001b[1;32m    779\u001b[0m     jc \u001b[38;5;241m=\u001b[39m \u001b[38;5;28mself\u001b[39m\u001b[38;5;241m.\u001b[39m_jc\u001b[38;5;241m.\u001b[39mcast(jdt)\n\u001b[1;32m    780\u001b[0m \u001b[38;5;28;01melse\u001b[39;00m:\n\u001b[0;32m--> 781\u001b[0m     \u001b[38;5;28;01mraise\u001b[39;00m \u001b[38;5;167;01mTypeError\u001b[39;00m(\u001b[38;5;124m\"\u001b[39m\u001b[38;5;124munexpected type: \u001b[39m\u001b[38;5;132;01m%s\u001b[39;00m\u001b[38;5;124m\"\u001b[39m \u001b[38;5;241m%\u001b[39m \u001b[38;5;28mtype\u001b[39m(dataType))\n\u001b[1;32m    782\u001b[0m \u001b[38;5;28;01mreturn\u001b[39;00m Column(jc)\n",
      "\u001b[0;31mTypeError\u001b[0m: unexpected type: <class 'pyspark.sql.types.DataTypeSingleton'>"
     ]
    }
   ],
   "source": [
    "df_emp.withColumn(\"year\", df_emp[\"year\"].cast(types.IntegerType))"
   ]
  },
  {
   "cell_type": "code",
   "execution_count": 13,
   "id": "acb2c9f5",
   "metadata": {
    "scrolled": true
   },
   "outputs": [
    {
     "name": "stderr",
     "output_type": "stream",
     "text": [
      "\r",
      "[Stage 4:>                                                          (0 + 1) / 1]\r"
     ]
    },
    {
     "name": "stdout",
     "output_type": "stream",
     "text": [
      "+----------------+---------------+-----+----------+-----------+-----+----------+----------------+-----------+--------+----------+-----------------+\n",
      "|            year|      LAUS_code| fips|state_fips|county_fips|state|state_full|          county|labor_force|employed|unemployed|unemployment_rate|\n",
      "+----------------+---------------+-----+----------+-----------+-----+----------+----------------+-----------+--------+----------+-----------------+\n",
      "|1230768000000000|CN0100100000000|01001|        01|        001|   AL|   Alabama|  Autauga County|      24660|   22464|      2196|              8.9|\n",
      "|1230768000000000|CN0100300000000|01003|        01|        003|   AL|   Alabama|  Baldwin County|      82314|   74950|      7364|              8.9|\n",
      "|1230768000000000|CN0100500000000|01005|        01|        005|   AL|   Alabama|  Barbour County|       9944|    8635|      1309|             13.2|\n",
      "|1230768000000000|CN0100700000000|01007|        01|        007|   AL|   Alabama|     Bibb County|       8696|    7637|      1059|             12.2|\n",
      "|1230768000000000|CN0100900000000|01009|        01|        009|   AL|   Alabama|   Blount County|      26426|   24005|      2421|              9.2|\n",
      "|1230768000000000|CN0101100000000|01011|        01|        011|   AL|   Alabama|  Bullock County|       3713|    3179|       534|             14.4|\n",
      "|1230768000000000|CN0101300000000|01013|        01|        013|   AL|   Alabama|   Butler County|       9033|    7671|      1362|             15.1|\n",
      "|1230768000000000|CN0101500000000|01015|        01|        015|   AL|   Alabama|  Calhoun County|      53760|   48278|      5482|             10.2|\n",
      "|1230768000000000|CN0101700000000|01017|        01|        017|   AL|   Alabama| Chambers County|      14487|   11863|      2624|             18.1|\n",
      "|1230768000000000|CN0101900000000|01019|        01|        019|   AL|   Alabama| Cherokee County|      11715|   10460|      1255|             10.7|\n",
      "|1230768000000000|CN0102100000000|01021|        01|        021|   AL|   Alabama|  Chilton County|      19393|   17501|      1892|              9.8|\n",
      "|1230768000000000|CN0102300000000|01023|        01|        023|   AL|   Alabama|  Choctaw County|       5106|    4474|       632|             12.4|\n",
      "|1230768000000000|CN0102500000000|01025|        01|        025|   AL|   Alabama|   Clarke County|      10298|    8728|      1570|             15.2|\n",
      "|1230768000000000|CN0102700000000|01027|        01|        027|   AL|   Alabama|     Clay County|       5596|    4737|       859|             15.4|\n",
      "|1230768000000000|CN0102900000000|01029|        01|        029|   AL|   Alabama| Cleburne County|       6499|    5893|       606|              9.3|\n",
      "|1230768000000000|CN0103100000000|01031|        01|        031|   AL|   Alabama|   Coffee County|      21423|   19755|      1668|              7.8|\n",
      "|1230768000000000|CN0103300000000|01033|        01|        033|   AL|   Alabama|  Colbert County|      25324|   22625|      2699|             10.7|\n",
      "|1230768000000000|CN0103500000000|01035|        01|        035|   AL|   Alabama|  Conecuh County|       4853|    3959|       894|             18.4|\n",
      "|1230768000000000|CN0103700000000|01037|        01|        037|   AL|   Alabama|    Coosa County|       4557|    3884|       673|             14.8|\n",
      "|1230768000000000|CN0103900000000|01039|        01|        039|   AL|   Alabama|Covington County|      16672|   15021|      1651|              9.9|\n",
      "+----------------+---------------+-----+----------+-----------+-----+----------+----------------+-----------+--------+----------+-----------------+\n",
      "only showing top 20 rows\n",
      "\n"
     ]
    },
    {
     "name": "stderr",
     "output_type": "stream",
     "text": [
      "\r",
      "                                                                                \r"
     ]
    }
   ],
   "source": [
    "df_emp.show()"
   ]
  },
  {
   "cell_type": "code",
   "execution_count": 26,
   "id": "5377ada9",
   "metadata": {
    "scrolled": false
   },
   "outputs": [
    {
     "name": "stderr",
     "output_type": "stream",
     "text": [
      "                                                                                \r"
     ]
    }
   ],
   "source": [
    "df_emp.write.csv('/Users/alvin/Documents/data/csv/', mode='overwrite', header=True)"
   ]
  },
  {
   "cell_type": "code",
   "execution_count": null,
   "id": "ada25a3c",
   "metadata": {},
   "outputs": [],
   "source": []
  }
 ],
 "metadata": {
  "kernelspec": {
   "display_name": "Python 3 (ipykernel)",
   "language": "python",
   "name": "python3"
  },
  "language_info": {
   "codemirror_mode": {
    "name": "ipython",
    "version": 3
   },
   "file_extension": ".py",
   "mimetype": "text/x-python",
   "name": "python",
   "nbconvert_exporter": "python",
   "pygments_lexer": "ipython3",
   "version": "3.9.12"
  }
 },
 "nbformat": 4,
 "nbformat_minor": 5
}
