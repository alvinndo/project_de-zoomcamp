{
 "cells": [
  {
   "cell_type": "code",
   "execution_count": 1,
   "id": "6916f71c",
   "metadata": {},
   "outputs": [],
   "source": [
    "import pyspark\n",
    "from pyspark.sql import SparkSession, types\n",
    "from pyspark.sql.functions import split, create_map, lit\n",
    "\n",
    "from itertools import chain"
   ]
  },
  {
   "cell_type": "code",
   "execution_count": 2,
   "id": "432c6534",
   "metadata": {},
   "outputs": [
    {
     "name": "stderr",
     "output_type": "stream",
     "text": [
      "WARNING: An illegal reflective access operation has occurred\n",
      "WARNING: Illegal reflective access by org.apache.spark.unsafe.Platform (file:/opt/homebrew/lib/python3.9/site-packages/pyspark/jars/spark-unsafe_2.12-3.2.1.jar) to constructor java.nio.DirectByteBuffer(long,int)\n",
      "WARNING: Please consider reporting this to the maintainers of org.apache.spark.unsafe.Platform\n",
      "WARNING: Use --illegal-access=warn to enable warnings of further illegal reflective access operations\n",
      "WARNING: All illegal access operations will be denied in a future release\n",
      "Using Spark's default log4j profile: org/apache/spark/log4j-defaults.properties\n",
      "Setting default log level to \"WARN\".\n",
      "To adjust logging level use sc.setLogLevel(newLevel). For SparkR, use setLogLevel(newLevel).\n",
      "22/05/01 00:21:59 WARN NativeCodeLoader: Unable to load native-hadoop library for your platform... using builtin-java classes where applicable\n"
     ]
    }
   ],
   "source": [
    "spark = SparkSession.builder \\\n",
    "    .master(\"local[*]\") \\\n",
    "    .appName(\"DE-project\") \\\n",
    "    .getOrCreate()"
   ]
  },
  {
   "cell_type": "code",
   "execution_count": 3,
   "id": "2db0d460",
   "metadata": {},
   "outputs": [],
   "source": [
    "df = spark.read \\\n",
    "    .option(\"header\", \"true\") \\\n",
    "    .csv('/Users/alvin/Documents/projects/project_de-zoomcamp/01-ingestion/data/us_employment_2021.csv')"
   ]
  },
  {
   "cell_type": "code",
   "execution_count": 4,
   "id": "254c66b8",
   "metadata": {},
   "outputs": [
    {
     "name": "stdout",
     "output_type": "stream",
     "text": [
      "+---------------+----------+-----------+--------------------+----+-----------+--------+----------+-----------------+-----+\n",
      "|      LAUS_code|state_fips|county_fips|        county_state|year|labor_force|employed|unemployed|unemployment_rate| fips|\n",
      "+---------------+----------+-----------+--------------------+----+-----------+--------+----------+-----------------+-----+\n",
      "|CN0100100000000|        01|        001|  Autauga County, AL|2021|      26341|   25599|       742|              2.8|01001|\n",
      "|CN0100300000000|        01|        003|  Baldwin County, AL|2021|      99427|   96481|      2946|              3.0|01003|\n",
      "|CN0100500000000|        01|        005|  Barbour County, AL|2021|       8197|    7728|       469|              5.7|01005|\n",
      "|CN0100700000000|        01|        007|     Bibb County, AL|2021|       8560|    8262|       298|              3.5|01007|\n",
      "|CN0100900000000|        01|        009|   Blount County, AL|2021|      25127|   24529|       598|              2.4|01009|\n",
      "|CN0101100000000|        01|        011|  Bullock County, AL|2021|       4606|    4422|       184|              4.0|01011|\n",
      "|CN0101300000000|        01|        013|   Butler County, AL|2021|       8796|    8328|       468|              5.3|01013|\n",
      "|CN0101500000000|        01|        015|  Calhoun County, AL|2021|      46118|   44212|      1906|              4.1|01015|\n",
      "|CN0101700000000|        01|        017| Chambers County, AL|2021|      15752|   15173|       579|              3.7|01017|\n",
      "|CN0101900000000|        01|        019| Cherokee County, AL|2021|      11808|   11512|       296|              2.5|01019|\n",
      "|CN0102100000000|        01|        021|  Chilton County, AL|2021|      19811|   19246|       565|              2.9|01021|\n",
      "|CN0102300000000|        01|        023|  Choctaw County, AL|2021|       4591|    4391|       200|              4.4|01023|\n",
      "|CN0102500000000|        01|        025|   Clarke County, AL|2021|       7726|    7264|       462|              6.0|01025|\n",
      "|CN0102700000000|        01|        027|     Clay County, AL|2021|       6095|    5930|       165|              2.7|01027|\n",
      "|CN0102900000000|        01|        029| Cleburne County, AL|2021|       5890|    5739|       151|              2.6|01029|\n",
      "|CN0103100000000|        01|        031|   Coffee County, AL|2021|      21853|   21243|       610|              2.8|01031|\n",
      "|CN0103300000000|        01|        033|  Colbert County, AL|2021|      23460|   22524|       936|              4.0|01033|\n",
      "|CN0103500000000|        01|        035|  Conecuh County, AL|2021|       4376|    4164|       212|              4.8|01035|\n",
      "|CN0103700000000|        01|        037|    Coosa County, AL|2021|       4343|    4209|       134|              3.1|01037|\n",
      "|CN0103900000000|        01|        039|Covington County, AL|2021|      15215|   14756|       459|              3.0|01039|\n",
      "+---------------+----------+-----------+--------------------+----+-----------+--------+----------+-----------------+-----+\n",
      "only showing top 20 rows\n",
      "\n"
     ]
    }
   ],
   "source": [
    "df.show()"
   ]
  },
  {
   "cell_type": "code",
   "execution_count": 5,
   "id": "7c4b3cb4",
   "metadata": {},
   "outputs": [],
   "source": [
    "schema = types.StructType([\n",
    "    types.StructField('LAUS_code',types.StringType(),True),\n",
    "    types.StructField('state_fips',types.StringType(),True),\n",
    "    types.StructField('county_fips',types.StringType(),True),\n",
    "    types.StructField('county_state',types.StringType(),True),\n",
    "    types.StructField('year',types.IntegerType(),True),\n",
    "    types.StructField('labor_force',types.IntegerType(),True),\n",
    "    types.StructField('employed',types.IntegerType(),True),\n",
    "    types.StructField('unemployed',types.IntegerType(),True),\n",
    "    types.StructField('unemployment_rate',types.FloatType(),True),\n",
    "    types.StructField('fips',types.StringType(),True)\n",
    "])"
   ]
  },
  {
   "cell_type": "code",
   "execution_count": 6,
   "id": "0604c38a",
   "metadata": {},
   "outputs": [],
   "source": [
    "df = spark.read \\\n",
    "    .option(\"header\", \"true\") \\\n",
    "    .schema(schema) \\\n",
    "    .csv('/Users/alvin/Documents/projects/project_de-zoomcamp/01-ingestion/data/us_employment_2021.csv')"
   ]
  },
  {
   "cell_type": "code",
   "execution_count": 7,
   "id": "54d5d6ab",
   "metadata": {},
   "outputs": [
    {
     "data": {
      "text/plain": [
       "StructType(List(StructField(LAUS_code,StringType,true),StructField(state_fips,StringType,true),StructField(county_fips,StringType,true),StructField(county_state,StringType,true),StructField(year,IntegerType,true),StructField(labor_force,IntegerType,true),StructField(employed,IntegerType,true),StructField(unemployed,IntegerType,true),StructField(unemployment_rate,FloatType,true),StructField(fips,StringType,true)))"
      ]
     },
     "execution_count": 7,
     "metadata": {},
     "output_type": "execute_result"
    }
   ],
   "source": [
    "df.schema"
   ]
  },
  {
   "cell_type": "code",
   "execution_count": 8,
   "id": "3de825a3",
   "metadata": {},
   "outputs": [
    {
     "name": "stdout",
     "output_type": "stream",
     "text": [
      "+---------------+----------+-----------+--------------------+----+-----------+--------+----------+-----------------+-----+\n",
      "|      LAUS_code|state_fips|county_fips|        county_state|year|labor_force|employed|unemployed|unemployment_rate| fips|\n",
      "+---------------+----------+-----------+--------------------+----+-----------+--------+----------+-----------------+-----+\n",
      "|CN0100100000000|        01|        001|  Autauga County, AL|2021|      26341|   25599|       742|              2.8|01001|\n",
      "|CN0100300000000|        01|        003|  Baldwin County, AL|2021|      99427|   96481|      2946|              3.0|01003|\n",
      "|CN0100500000000|        01|        005|  Barbour County, AL|2021|       8197|    7728|       469|              5.7|01005|\n",
      "|CN0100700000000|        01|        007|     Bibb County, AL|2021|       8560|    8262|       298|              3.5|01007|\n",
      "|CN0100900000000|        01|        009|   Blount County, AL|2021|      25127|   24529|       598|              2.4|01009|\n",
      "|CN0101100000000|        01|        011|  Bullock County, AL|2021|       4606|    4422|       184|              4.0|01011|\n",
      "|CN0101300000000|        01|        013|   Butler County, AL|2021|       8796|    8328|       468|              5.3|01013|\n",
      "|CN0101500000000|        01|        015|  Calhoun County, AL|2021|      46118|   44212|      1906|              4.1|01015|\n",
      "|CN0101700000000|        01|        017| Chambers County, AL|2021|      15752|   15173|       579|              3.7|01017|\n",
      "|CN0101900000000|        01|        019| Cherokee County, AL|2021|      11808|   11512|       296|              2.5|01019|\n",
      "|CN0102100000000|        01|        021|  Chilton County, AL|2021|      19811|   19246|       565|              2.9|01021|\n",
      "|CN0102300000000|        01|        023|  Choctaw County, AL|2021|       4591|    4391|       200|              4.4|01023|\n",
      "|CN0102500000000|        01|        025|   Clarke County, AL|2021|       7726|    7264|       462|              6.0|01025|\n",
      "|CN0102700000000|        01|        027|     Clay County, AL|2021|       6095|    5930|       165|              2.7|01027|\n",
      "|CN0102900000000|        01|        029| Cleburne County, AL|2021|       5890|    5739|       151|              2.6|01029|\n",
      "|CN0103100000000|        01|        031|   Coffee County, AL|2021|      21853|   21243|       610|              2.8|01031|\n",
      "|CN0103300000000|        01|        033|  Colbert County, AL|2021|      23460|   22524|       936|              4.0|01033|\n",
      "|CN0103500000000|        01|        035|  Conecuh County, AL|2021|       4376|    4164|       212|              4.8|01035|\n",
      "|CN0103700000000|        01|        037|    Coosa County, AL|2021|       4343|    4209|       134|              3.1|01037|\n",
      "|CN0103900000000|        01|        039|Covington County, AL|2021|      15215|   14756|       459|              3.0|01039|\n",
      "+---------------+----------+-----------+--------------------+----+-----------+--------+----------+-----------------+-----+\n",
      "only showing top 20 rows\n",
      "\n"
     ]
    }
   ],
   "source": [
    "df.show()"
   ]
  },
  {
   "cell_type": "code",
   "execution_count": 9,
   "id": "159cebae",
   "metadata": {},
   "outputs": [],
   "source": [
    "df = df.withColumn('state', split(df['county_state'], ', ').getItem(1)) \\\n",
    "    .withColumn('county', split(df['county_state'], ', ').getItem(0))"
   ]
  },
  {
   "cell_type": "code",
   "execution_count": 10,
   "id": "36b3aed1",
   "metadata": {},
   "outputs": [],
   "source": [
    "states = {\n",
    "    'AK': 'Alaska',\n",
    "    'AL': 'Alabama',\n",
    "    'AR': 'Arkansas',\n",
    "    'AZ': 'Arizona',\n",
    "    'CA': 'California',\n",
    "    'CO': 'Colorado',\n",
    "    'CT': 'Connecticut',\n",
    "    'DC': 'District of Columbia',\n",
    "    'DE': 'Delaware',\n",
    "    'FL': 'Florida',\n",
    "    'GA': 'Georgia',\n",
    "    'HI': 'Hawaii',\n",
    "    'IA': 'Iowa',\n",
    "    'ID': 'Idaho',\n",
    "    'IL': 'Illinois',\n",
    "    'IN': 'Indiana',\n",
    "    'KS': 'Kansas',\n",
    "    'KY': 'Kentucky',\n",
    "    'LA': 'Louisiana',\n",
    "    'MA': 'Massachusetts',\n",
    "    'MD': 'Maryland',\n",
    "    'ME': 'Maine',\n",
    "    'MI': 'Michigan',\n",
    "    'MN': 'Minnesota',\n",
    "    'MO': 'Missouri',\n",
    "    'MS': 'Mississippi',\n",
    "    'MT': 'Montana',\n",
    "    'NC': 'North Carolina',\n",
    "    'ND': 'North Dakota',\n",
    "    'NE': 'Nebraska',\n",
    "    'NH': 'New Hampshire',\n",
    "    'NJ': 'New Jersey',\n",
    "    'NM': 'New Mexico',\n",
    "    'NV': 'Nevada',\n",
    "    'NY': 'New York',\n",
    "    'OH': 'Ohio',\n",
    "    'OK': 'Oklahoma',\n",
    "    'OR': 'Oregon',\n",
    "    'PA': 'Pennsylvania',\n",
    "    'RI': 'Rhode Island',\n",
    "    'SC': 'South Carolina',\n",
    "    'SD': 'South Dakota',\n",
    "    'TN': 'Tennessee',\n",
    "    'TX': 'Texas',\n",
    "    'UT': 'Utah',\n",
    "    'VA': 'Virginia',\n",
    "    'VT': 'Vermont',\n",
    "    'WA': 'Washington',\n",
    "    'WI': 'Wisconsin',\n",
    "    'WV': 'West Virginia',\n",
    "    'WY': 'Wyoming'\n",
    "}"
   ]
  },
  {
   "cell_type": "code",
   "execution_count": 11,
   "id": "381e0a0c",
   "metadata": {
    "scrolled": true
   },
   "outputs": [],
   "source": [
    "mapping_expr = create_map([lit(x) for x in chain(*states.items())])\n",
    "df = df.withColumn('state_full', mapping_expr[df.state])"
   ]
  },
  {
   "cell_type": "code",
   "execution_count": 12,
   "id": "a15eb4d2",
   "metadata": {
    "scrolled": true
   },
   "outputs": [
    {
     "name": "stdout",
     "output_type": "stream",
     "text": [
      "+----+---------------+-----+----------+-----------+-----+----------+----------------+-----------+--------+----------+-----------------+\n",
      "|year|      LAUS_code| fips|state_fips|county_fips|state|state_full|          county|labor_force|employed|unemployed|unemployment_rate|\n",
      "+----+---------------+-----+----------+-----------+-----+----------+----------------+-----------+--------+----------+-----------------+\n",
      "|2021|CN0100100000000|01001|        01|        001|   AL|   Alabama|  Autauga County|      26341|   25599|       742|              2.8|\n",
      "|2021|CN0100300000000|01003|        01|        003|   AL|   Alabama|  Baldwin County|      99427|   96481|      2946|              3.0|\n",
      "|2021|CN0100500000000|01005|        01|        005|   AL|   Alabama|  Barbour County|       8197|    7728|       469|              5.7|\n",
      "|2021|CN0100700000000|01007|        01|        007|   AL|   Alabama|     Bibb County|       8560|    8262|       298|              3.5|\n",
      "|2021|CN0100900000000|01009|        01|        009|   AL|   Alabama|   Blount County|      25127|   24529|       598|              2.4|\n",
      "|2021|CN0101100000000|01011|        01|        011|   AL|   Alabama|  Bullock County|       4606|    4422|       184|              4.0|\n",
      "|2021|CN0101300000000|01013|        01|        013|   AL|   Alabama|   Butler County|       8796|    8328|       468|              5.3|\n",
      "|2021|CN0101500000000|01015|        01|        015|   AL|   Alabama|  Calhoun County|      46118|   44212|      1906|              4.1|\n",
      "|2021|CN0101700000000|01017|        01|        017|   AL|   Alabama| Chambers County|      15752|   15173|       579|              3.7|\n",
      "|2021|CN0101900000000|01019|        01|        019|   AL|   Alabama| Cherokee County|      11808|   11512|       296|              2.5|\n",
      "|2021|CN0102100000000|01021|        01|        021|   AL|   Alabama|  Chilton County|      19811|   19246|       565|              2.9|\n",
      "|2021|CN0102300000000|01023|        01|        023|   AL|   Alabama|  Choctaw County|       4591|    4391|       200|              4.4|\n",
      "|2021|CN0102500000000|01025|        01|        025|   AL|   Alabama|   Clarke County|       7726|    7264|       462|              6.0|\n",
      "|2021|CN0102700000000|01027|        01|        027|   AL|   Alabama|     Clay County|       6095|    5930|       165|              2.7|\n",
      "|2021|CN0102900000000|01029|        01|        029|   AL|   Alabama| Cleburne County|       5890|    5739|       151|              2.6|\n",
      "|2021|CN0103100000000|01031|        01|        031|   AL|   Alabama|   Coffee County|      21853|   21243|       610|              2.8|\n",
      "|2021|CN0103300000000|01033|        01|        033|   AL|   Alabama|  Colbert County|      23460|   22524|       936|              4.0|\n",
      "|2021|CN0103500000000|01035|        01|        035|   AL|   Alabama|  Conecuh County|       4376|    4164|       212|              4.8|\n",
      "|2021|CN0103700000000|01037|        01|        037|   AL|   Alabama|    Coosa County|       4343|    4209|       134|              3.1|\n",
      "|2021|CN0103900000000|01039|        01|        039|   AL|   Alabama|Covington County|      15215|   14756|       459|              3.0|\n",
      "+----+---------------+-----+----------+-----------+-----+----------+----------------+-----------+--------+----------+-----------------+\n",
      "only showing top 20 rows\n",
      "\n"
     ]
    }
   ],
   "source": [
    "df = df.select(\"year\", \"LAUS_code\", \"fips\", \"state_fips\", \"county_fips\", \"state\", \"state_full\", \"county\", \"labor_force\", \"employed\", \"unemployed\", \"unemployment_rate\").show()"
   ]
  }
 ],
 "metadata": {
  "kernelspec": {
   "display_name": "Python 3 (ipykernel)",
   "language": "python",
   "name": "python3"
  },
  "language_info": {
   "codemirror_mode": {
    "name": "ipython",
    "version": 3
   },
   "file_extension": ".py",
   "mimetype": "text/x-python",
   "name": "python",
   "nbconvert_exporter": "python",
   "pygments_lexer": "ipython3",
   "version": "3.9.12"
  }
 },
 "nbformat": 4,
 "nbformat_minor": 5
}
